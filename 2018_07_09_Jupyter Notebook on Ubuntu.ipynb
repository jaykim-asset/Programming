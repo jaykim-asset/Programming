{
 "cells": [
  {
   "cell_type": "markdown",
   "metadata": {},
   "source": [
    "## 1. Ipython, Jupyter Installation"
   ]
  },
  {
   "cell_type": "markdown",
   "metadata": {},
   "source": [
    "- `$ pip install --upgrade pip`\n",
    "- `$ pip install ipython jupyter`"
   ]
  },
  {
   "cell_type": "markdown",
   "metadata": {},
   "source": [
    "## 2. Create a Configuration File "
   ]
  },
  {
   "cell_type": "markdown",
   "metadata": {},
   "source": [
    "- `$ jupyter notebook --generate-config`"
   ]
  },
  {
   "cell_type": "markdown",
   "metadata": {},
   "source": [
    "## 3. Password Create"
   ]
  },
  {
   "cell_type": "markdown",
   "metadata": {},
   "source": [
    "- `$ ipython`\n",
    "- ln[1]: from notebook.auth import passwd\n",
    "- ls[2]: passwd()\n",
    "- Enter password: asdasdasd\n",
    "- Verify password: asdasdasd\n",
    "- 'sha1:6600c5733ef3:b683d6afba16b3403fdf9a75ac38b7d8e7f733bb'"
   ]
  },
  {
   "cell_type": "markdown",
   "metadata": {},
   "source": [
    "## 4. Create a Key file to adjust the SSL"
   ]
  },
  {
   "cell_type": "markdown",
   "metadata": {},
   "source": [
    "- `$ openssl req -x509 -nodes -days 365 -newkey rsa:1024 -keyout cert.pem -o\n",
    "    ut cert.pem`\n",
    "- Country Name (2 letter code) [AU]: KO\n",
    "- State or Province Name: Seoul\n",
    "- Locality Name: Seoul\n",
    "- Organization Name: Dunamis\n",
    "- Organization Unit Name: Dunamis\n",
    "- Common Name: Jay Kim\n",
    "- Email Address: jaykim.asset@gmail.com\n"
   ]
  },
  {
   "cell_type": "markdown",
   "metadata": {},
   "source": [
    "## 5. Configuration File changes"
   ]
  },
  {
   "cell_type": "markdown",
   "metadata": {},
   "source": [
    "- Needs to have below information\n",
    "    - Password: sha1:6600c5733ef~ ~ ~\n",
    "    - SSL File Path: /home/ubuntu/cert.pem\n",
    "    - Private IP address: 172.31.26.225\n",
    "- `$sudo vi /home/ubuntu/.jupyter/jupyter_notebook_config.py\n",
    "    - c.NotebookApp.ip = '172.31.26.225' # Private IP\n",
    "    - c.NotebookApp.open_browser = False\n",
    "    - c.NotebookApp.password = 'sha:6600c5733ef3:b683 ~~ `\n",
    "    - c.NotebookApp.certfile = '/home/ubuntu/cert.pem/'"
   ]
  },
  {
   "cell_type": "code",
   "execution_count": null,
   "metadata": {},
   "outputs": [],
   "source": []
  }
 ],
 "metadata": {
  "kernelspec": {
   "display_name": "Python 3",
   "language": "python",
   "name": "python3"
  },
  "language_info": {
   "codemirror_mode": {
    "name": "ipython",
    "version": 3
   },
   "file_extension": ".py",
   "mimetype": "text/x-python",
   "name": "python",
   "nbconvert_exporter": "python",
   "pygments_lexer": "ipython3",
   "version": "3.6.4"
  }
 },
 "nbformat": 4,
 "nbformat_minor": 2
}
