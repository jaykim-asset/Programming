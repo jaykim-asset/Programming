{
 "cells": [
  {
   "cell_type": "markdown",
   "metadata": {},
   "source": [
    "# xvfb\n",
    "- pip uninstall selenium\n",
    "- pip install selenium==2.53"
   ]
  },
  {
   "cell_type": "markdown",
   "metadata": {},
   "source": [
    "## 1. install chrome driver\n",
    "- `$ vi chrome_driver_install.sh`\n",
    "- `$ source chrome_driver_install.sh`"
   ]
  },
  {
   "cell_type": "markdown",
   "metadata": {},
   "source": [
    "## 2. run python program"
   ]
  },
  {
   "cell_type": "markdown",
   "metadata": {},
   "source": [
    "- Make a `xvfb.py` and write as below\n",
    "\n",
    "- `from pyvirtualdisplay import Display\n",
    "from selenium import webdriver\n",
    "display = Display(visible=0, size=(800,600))\n",
    "display.start()\n",
    "driver = webdriver.Chrome()\n",
    "driver.get('http://christopher.su')\n",
    "print(driver.title)\n",
    "driver.quit()\n",
    "display.stop()`\n",
    "- `$ python xvfb.py`"
   ]
  },
  {
   "cell_type": "code",
   "execution_count": null,
   "metadata": {},
   "outputs": [],
   "source": []
  }
 ],
 "metadata": {
  "kernelspec": {
   "display_name": "Python 3",
   "language": "python",
   "name": "python3"
  },
  "language_info": {
   "codemirror_mode": {
    "name": "ipython",
    "version": 3
   },
   "file_extension": ".py",
   "mimetype": "text/x-python",
   "name": "python",
   "nbconvert_exporter": "python",
   "pygments_lexer": "ipython3",
   "version": "3.6.4"
  }
 },
 "nbformat": 4,
 "nbformat_minor": 2
}
