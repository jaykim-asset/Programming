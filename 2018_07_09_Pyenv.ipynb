{
 "cells": [
  {
   "cell_type": "markdown",
   "metadata": {},
   "source": [
    "## Pyenv\n",
    "- By using Pyenv, we are able to use several versions of Python. \n",
    "- Why using the pyenv? \n",
    "    - Eligible to make a virtual environment in each directories. \n",
    "    - Efficient to manage the several versions of Python in a system.\n",
    "- Installation Tools\n",
    "    - pyenv - From one host, we are able to use many versions of Python.\n",
    "    - virtualenv - Helps to use the many versions of Python in the virtual env.\n",
    "    - autoenv - Enable the virtual environment by each directories."
   ]
  },
  {
   "cell_type": "markdown",
   "metadata": {},
   "source": [
    "## 1. Pyenv\n",
    "- 1.1 apt-get Updates\n",
    "   - `$ sudo apt-get update`\n",
    "   - `$ sudo apt-get upgrade`\n",
    "   - When the Encoding selection's interface appears, then select the UTF-8.\n",
    "   (It will not be appeared in windows)\n",
    "- 1.2 \n",
    "    - `$sudo apt-get install -y make build-essential libssl-dev zlib1g-dev libbz2-dev libreadline-dev libsqlite3-dev wget curl llvm libncurses5-dev libncursesw5-dev xzutils tk-dev`\n",
    "- 1.3 git install\n",
    "    - sudo apt-get install git\n",
    "- 1.4 pyenv install\n",
    "    - `curl -L https://raw.githubusercontent.com/yyuu/pyenv-installer/master/bin/pyenv-installer|bash`\n",
    "- 1.5 .bash_profile configuration\n",
    "    - 1.5.1 Add pyenv configuration in the .bash_profile\n",
    "        - /home/ubuntu$ vi `.bash_profile`\n",
    "    - 1.5.2 Pyenv configuration adding in the `.bash_profile`\n",
    "        - `.bash_profile`\n",
    "        - `---------------------------------------`\n",
    "        - `export PATH = '/home/ubuntu/.pyenv/bin:$PATH'`\n",
    "        - `eval '$(pyenv init-)'`\n",
    "        - `eval '$(pyenv virtualenv-init-)'`\n",
    "        - `source .bashrc`\n",
    "        - Difference between `.bash_profile` and `.bashrc`: \n",
    "            - `.bash_profile` is a login shell and `.bashrc` is not a login shell\n",
    "            - `.bash_profile` initiated when the server is started, and `.bashrc` is initiated when a new shell created.\n",
    "    - 1.5.3 Reflect the changed `.bash_profile`\n",
    "        - `$ source .bash_profile`\n",
    "- 1.6 Install python\n",
    "    - 1.6.1 Checking python version that are usable\n",
    "        - `$ pyenv install --list | grep -v '-'`\n",
    "    - 1.6.2 python Installation\n",
    "        - `$ export LC_ALL = C`\n",
    "        - `$ pyenv install 3.6.5`\n",
    "        - `$ pyenv install 2.7.15`\n",
    "    - 1.6.3 Checking versions that we have installed in pyenv\n",
    "        - `$ pyenv versions`\n",
    "    - 1.6.4 Change the python version by using the pyenv\n",
    "        - `pyenv shell 3.6.5`\n",
    "    - 1.6.5 Global version configuration on the pyenv\n",
    "        - `pyenv global 3.6.5`\n",
    "    - 1.6.6 python delete by using pyenv\n",
    "        - `pyenv uninstall 2.7.15`     "
   ]
  },
  {
   "cell_type": "markdown",
   "metadata": {},
   "source": [
    "## 2. Virtualenv\n",
    "- 2.1 virtualenv installation\n",
    "    - `$ sudo apt-get install pyenv-virtualenv`\n",
    "    - `$ sudo apt-get install python-virtualenv`\n",
    "- 2.2 Make a Virtual Environment\n",
    "    - `$ pyenv virtualenv 3.6.5 python3`\n",
    "    - `$ pyenv virtualenv 2.7.15 python2`\n",
    "    - `$ pyenv virtualenv 3.6.5 python3_2`\n",
    "- 2.3 Virtual Environment Initiation\n",
    "    - `$ pyenv shell python3`\n",
    "- 2.4 Virtual Environment uninstallation\n",
    "    - `$ pyenv uninstall python3_2`"
   ]
  },
  {
   "cell_type": "markdown",
   "metadata": {},
   "source": [
    "## 3. Autoenv\n",
    "- 3.1 autoenv Installation and Configuration\n",
    "    - `$ git clone git://github.com/kennethreitz/autoenv.git ~/.autoenv`\n",
    "    - `$ echo 'source ~/.autoenv/activate.sh' >> ~/.bash_profile`\n",
    "    - `$ source .bash_profile`\n",
    "- 3.2 python virtual environment change\n",
    "    - By using `activate`, only environment can be changed.\n",
    "    - `$ pyenv activate python2`\n",
    "- 3.3 pyenv global environment\n",
    "    - `$ pyenv deactivate`\n",
    "- 3.4 Python Virtual Environment Adjust in each directories\n",
    "    - Make directories for python2 and python3 and configure as below\n",
    "    - `python2 $vi. env`\n",
    "        - `pyenv activate python2`\n",
    "    - `python3 $vi. env`\n",
    "        - `pyenv activate python3`\n",
    "    - `~/.env`\n",
    "        - `pyenv deactivate`"
   ]
  },
  {
   "cell_type": "code",
   "execution_count": null,
   "metadata": {},
   "outputs": [],
   "source": []
  }
 ],
 "metadata": {
  "kernelspec": {
   "display_name": "Python 3",
   "language": "python",
   "name": "python3"
  },
  "language_info": {
   "codemirror_mode": {
    "name": "ipython",
    "version": 3
   },
   "file_extension": ".py",
   "mimetype": "text/x-python",
   "name": "python",
   "nbconvert_exporter": "python",
   "pygments_lexer": "ipython3",
   "version": "3.6.4"
  }
 },
 "nbformat": 4,
 "nbformat_minor": 2
}
