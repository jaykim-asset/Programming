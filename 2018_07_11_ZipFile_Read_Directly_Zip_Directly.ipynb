{
 "cells": [
  {
   "cell_type": "markdown",
   "metadata": {},
   "source": [
    "# 파이썬을 활용한 Zip File 압축해제 후, 차례로 읽기"
   ]
  },
  {
   "cell_type": "markdown",
   "metadata": {},
   "source": [
    "## 파일 Size가 0인 것은 제외 후, 압축해제"
   ]
  },
  {
   "cell_type": "code",
   "execution_count": 15,
   "metadata": {},
   "outputs": [],
   "source": [
    "import zipfile\n",
    "\n",
    "Market_data_zip = zipfile.ZipFile('C:\\\\Finance_team\\\\Market_data_zip.zip')\n",
    "\n",
    "for file in Market_data_zip.namelist():\n",
    "    if Market_data_zip.getinfo(file).file_size > 0:\n",
    "        Market_data_zip.extract(file, 'C:\\\\Finance_team\\\\Market_data_unzip')"
   ]
  },
  {
   "cell_type": "markdown",
   "metadata": {},
   "source": [
    "## Since some of data are zipped in my environment, this method will be very usful."
   ]
  },
  {
   "cell_type": "code",
   "execution_count": null,
   "metadata": {},
   "outputs": [],
   "source": []
  }
 ],
 "metadata": {
  "kernelspec": {
   "display_name": "Python 3",
   "language": "python",
   "name": "python3"
  },
  "language_info": {
   "codemirror_mode": {
    "name": "ipython",
    "version": 3
   },
   "file_extension": ".py",
   "mimetype": "text/x-python",
   "name": "python",
   "nbconvert_exporter": "python",
   "pygments_lexer": "ipython3",
   "version": "3.6.4"
  }
 },
 "nbformat": 4,
 "nbformat_minor": 2
}
