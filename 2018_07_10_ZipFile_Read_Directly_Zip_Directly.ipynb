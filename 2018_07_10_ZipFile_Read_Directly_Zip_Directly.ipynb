{
 "cells": [
  {
   "cell_type": "markdown",
   "metadata": {},
   "source": [
    "# Python ZipFile Read and Zip files Directly"
   ]
  },
  {
   "cell_type": "markdown",
   "metadata": {},
   "source": [
    "## 1. Read Zipped File Directly in python"
   ]
  },
  {
   "cell_type": "markdown",
   "metadata": {},
   "source": [
    "- This will be useful whenever we handles zip files (which will be a big size of data). \n",
    "- we don't have to unzip the files and read the files in python. \n",
    "- Let's use below codes"
   ]
  },
  {
   "cell_type": "code",
   "execution_count": null,
   "metadata": {},
   "outputs": [],
   "source": [
    "import zipfiles\n",
    "\n",
    "Market_data_zip = zipfile.ZipFile('C:\\\\Finance_team\\\\Market_data_zip.7z')\n",
    "\n",
    "for file in Market_data_zip.namelist():\n",
    "    if Market_data_zip.getinfo(file).file_size > 0:\n",
    "        Market_data_zip.extract(file, 'C:\\\\Finance_team\\\\')"
   ]
  }
 ],
 "metadata": {
  "kernelspec": {
   "display_name": "Python 3",
   "language": "python",
   "name": "python3"
  },
  "language_info": {
   "codemirror_mode": {
    "name": "ipython",
    "version": 3
   },
   "file_extension": ".py",
   "mimetype": "text/x-python",
   "name": "python",
   "nbconvert_exporter": "python",
   "pygments_lexer": "ipython3",
   "version": "3.6.4"
  }
 },
 "nbformat": 4,
 "nbformat_minor": 2
}
