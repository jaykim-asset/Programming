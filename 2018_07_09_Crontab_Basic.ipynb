{
 "cells": [
  {
   "cell_type": "markdown",
   "metadata": {},
   "source": [
    "# Crontab\n",
    "- Unix OS's scheduler"
   ]
  },
  {
   "cell_type": "markdown",
   "metadata": {},
   "source": [
    "## 1. crontab basic"
   ]
  },
  {
   "cell_type": "markdown",
   "metadata": {},
   "source": [
    "- 1.1 Schedule Configuration\n",
    "    - crontab -e \n",
    "        - Vim editor page will be appeared, and you need to configure here.\n",
    "    - crontab -l\n",
    "        - Will be able to check current crontab's schedule (cat)"
   ]
  },
  {
   "cell_type": "markdown",
   "metadata": {},
   "source": [
    "## 2. crontab configuration\n",
    "- `*          *          *          *          *`\n",
    "- `* (minutes)* (hours)  * (days)   * (month)  * (days in a week)`\n",
    "- examples\n",
    "    - `*2 * * * * python3 /home/ubuntu/time.py>>time.txt` => every 2 minutes\n",
    "    - `10 * * * * python3 /home/ubuntu/time.py>>time.txt` => every 10 minutes\n",
    "    - `10,20 * * * * python3 /home/ubuntu/time.py>>time.txt` => every 10 and  20mins"
   ]
  },
  {
   "cell_type": "markdown",
   "metadata": {},
   "source": [
    "## 3. Time Zone Changes\n",
    "- `$ tzselect`\n",
    "- `$ vi .bash_profile`\n",
    "    - TZ='Asia/Seoul'\n",
    "    - export TZ\n",
    "- `$ source .bash_profile`"
   ]
  },
  {
   "cell_type": "markdown",
   "metadata": {},
   "source": [
    "## 4. vim editor Encoding Type Changing\n",
    "- `$vi .vimrc`\n",
    "    - `set encoding=utf-8`"
   ]
  },
  {
   "cell_type": "markdown",
   "metadata": {},
   "source": [
    "## 5. crontab log check\n",
    "- `$ grep CRON /var/log/syslog`"
   ]
  },
  {
   "cell_type": "markdown",
   "metadata": {},
   "source": [
    "## 6. crontab error checking\n",
    "- 6.1: error chekcing 1\n",
    "    - `$ sudo apt-get install postfix`\n",
    "    - `$ cat /var/mail/ubuntu`\n",
    "- 6.2: error checking 2\n",
    "    - `$ sudo apt install mailutils`\n",
    "    - `$ mail`\n",
    "- 6.3: pyenv environment\n",
    "    - `* * * * * /home/ubuntu/.pyenv/versions/3.6.5/bin/python3 test.py > result.txt`"
   ]
  },
  {
   "cell_type": "code",
   "execution_count": null,
   "metadata": {},
   "outputs": [],
   "source": []
  }
 ],
 "metadata": {
  "kernelspec": {
   "display_name": "Python 3",
   "language": "python",
   "name": "python3"
  },
  "language_info": {
   "codemirror_mode": {
    "name": "ipython",
    "version": 3
   },
   "file_extension": ".py",
   "mimetype": "text/x-python",
   "name": "python",
   "nbconvert_exporter": "python",
   "pygments_lexer": "ipython3",
   "version": "3.6.4"
  }
 },
 "nbformat": 4,
 "nbformat_minor": 2
}
